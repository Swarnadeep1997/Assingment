{
 "cells": [
  {
   "cell_type": "markdown",
   "id": "211a87f2",
   "metadata": {},
   "source": [
    "# Files, Exception Handling, Logging & Memory Management - Assignment\n",
    "Submitted by: **Swarnadeep Sarcar**\n",
    "\n",
    "---\n"
   ]
  },
  {
   "cell_type": "markdown",
   "id": "b095d025",
   "metadata": {},
   "source": [
    "### 1. Open a file for writing and write a string"
   ]
  },
  {
   "cell_type": "code",
   "execution_count": null,
   "id": "17806d21",
   "metadata": {},
   "outputs": [],
   "source": [
    "with open(\"example.txt\", \"w\") as f:\n",
    "    f.write(\"Hello, this is a test file.\")"
   ]
  },
  {
   "cell_type": "markdown",
   "id": "074177e9",
   "metadata": {},
   "source": [
    "### 2. Read the contents of a file and print each line"
   ]
  },
  {
   "cell_type": "code",
   "execution_count": null,
   "id": "a1f8f305",
   "metadata": {},
   "outputs": [],
   "source": [
    "with open(\"example.txt\", \"r\") as f:\n",
    "    for line in f:\n",
    "        print(line.strip())"
   ]
  },
  {
   "cell_type": "markdown",
   "id": "04a28c1f",
   "metadata": {},
   "source": [
    "### 3. Handle file not found error"
   ]
  },
  {
   "cell_type": "code",
   "execution_count": null,
   "id": "1deecc17",
   "metadata": {},
   "outputs": [],
   "source": [
    "try:\n",
    "    with open(\"nonexistent.txt\", \"r\") as f:\n",
    "        print(f.read())\n",
    "except FileNotFoundError:\n",
    "    print(\"File not found!\")"
   ]
  },
  {
   "cell_type": "markdown",
   "id": "1b79fc7f",
   "metadata": {},
   "source": [
    "### 4. Copy content from one file to another"
   ]
  },
  {
   "cell_type": "code",
   "execution_count": null,
   "id": "252839c5",
   "metadata": {},
   "outputs": [],
   "source": [
    "with open(\"example.txt\", \"r\") as src, open(\"copy.txt\", \"w\") as dest:\n",
    "    dest.write(src.read())"
   ]
  },
  {
   "cell_type": "markdown",
   "id": "e7ed7a1c",
   "metadata": {},
   "source": [
    "### 5. Catch division by zero"
   ]
  },
  {
   "cell_type": "code",
   "execution_count": null,
   "id": "a50967b8",
   "metadata": {},
   "outputs": [],
   "source": [
    "try:\n",
    "    result = 10 / 0\n",
    "except ZeroDivisionError:\n",
    "    print(\"Cannot divide by zero\")"
   ]
  },
  {
   "cell_type": "markdown",
   "id": "dfeb30fd",
   "metadata": {},
   "source": [
    "### 6. Log error to file on division by zero"
   ]
  },
  {
   "cell_type": "code",
   "execution_count": null,
   "id": "bbf78cac",
   "metadata": {},
   "outputs": [],
   "source": [
    "import logging\n",
    "logging.basicConfig(filename='error.log', level=logging.ERROR)\n",
    "try:\n",
    "    1 / 0\n",
    "except ZeroDivisionError as e:\n",
    "    logging.error(f\"Error occurred: {e}\")"
   ]
  },
  {
   "cell_type": "markdown",
   "id": "1116aac7",
   "metadata": {},
   "source": [
    "### 7. Log at different levels"
   ]
  },
  {
   "cell_type": "code",
   "execution_count": null,
   "id": "5eb0c709",
   "metadata": {},
   "outputs": [],
   "source": [
    "import logging\n",
    "logging.basicConfig(level=logging.DEBUG)\n",
    "logging.info(\"This is an info message\")\n",
    "logging.warning(\"This is a warning\")\n",
    "logging.error(\"This is an error\")"
   ]
  },
  {
   "cell_type": "markdown",
   "id": "6caba0b7",
   "metadata": {},
   "source": [
    "### 8. File opening error handling"
   ]
  },
  {
   "cell_type": "code",
   "execution_count": null,
   "id": "f85a2e2c",
   "metadata": {},
   "outputs": [],
   "source": [
    "try:\n",
    "    open(\"unknown.txt\")\n",
    "except IOError:\n",
    "    print(\"Could not open the file\")"
   ]
  },
  {
   "cell_type": "markdown",
   "id": "0f60e8b9",
   "metadata": {},
   "source": [
    "### 9. Read file line by line into a list"
   ]
  },
  {
   "cell_type": "code",
   "execution_count": null,
   "id": "93ff9122",
   "metadata": {},
   "outputs": [],
   "source": [
    "with open(\"example.txt\", \"r\") as f:\n",
    "    lines = f.readlines()\n",
    "print(lines)"
   ]
  },
  {
   "cell_type": "markdown",
   "id": "4e940ba4",
   "metadata": {},
   "source": [
    "### 10. Append to an existing file"
   ]
  },
  {
   "cell_type": "code",
   "execution_count": null,
   "id": "344eb761",
   "metadata": {},
   "outputs": [],
   "source": [
    "with open(\"example.txt\", \"a\") as f:\n",
    "    f.write(\"\\nAppended line.\")"
   ]
  },
  {
   "cell_type": "markdown",
   "id": "238f9bc7",
   "metadata": {},
   "source": [
    "### 11. Handle missing dictionary key"
   ]
  },
  {
   "cell_type": "code",
   "execution_count": null,
   "id": "bbb1b771",
   "metadata": {},
   "outputs": [],
   "source": [
    "my_dict = {\"name\": \"Alice\"}\n",
    "try:\n",
    "    print(my_dict[\"age\"])\n",
    "except KeyError:\n",
    "    print(\"Key not found\")"
   ]
  },
  {
   "cell_type": "markdown",
   "id": "fbf8c0da",
   "metadata": {},
   "source": [
    "### 12. Multiple except blocks"
   ]
  },
  {
   "cell_type": "code",
   "execution_count": null,
   "id": "e17f9ed2",
   "metadata": {},
   "outputs": [],
   "source": [
    "try:\n",
    "    x = 10 / 0\n",
    "except ZeroDivisionError:\n",
    "    print(\"Cannot divide by zero\")\n",
    "except TypeError:\n",
    "    print(\"Type error occurred\")"
   ]
  },
  {
   "cell_type": "markdown",
   "id": "8c380937",
   "metadata": {},
   "source": [
    "### 13. Check if file exists"
   ]
  },
  {
   "cell_type": "code",
   "execution_count": null,
   "id": "acecfb5c",
   "metadata": {},
   "outputs": [],
   "source": [
    "import os\n",
    "if os.path.exists(\"example.txt\"):\n",
    "    print(\"File exists\")\n",
    "else:\n",
    "    print(\"File does not exist\")"
   ]
  },
  {
   "cell_type": "markdown",
   "id": "f86439ae",
   "metadata": {},
   "source": [
    "### 14. Logging info and errors"
   ]
  },
  {
   "cell_type": "code",
   "execution_count": null,
   "id": "47a5c677",
   "metadata": {},
   "outputs": [],
   "source": [
    "import logging\n",
    "logging.basicConfig(filename='combined.log', level=logging.INFO)\n",
    "logging.info(\"Program started\")\n",
    "try:\n",
    "    1 / 0\n",
    "except Exception as e:\n",
    "    logging.error(f\"Exception: {e}\")"
   ]
  },
  {
   "cell_type": "markdown",
   "id": "2bfc3ce6",
   "metadata": {},
   "source": [
    "### 15. Print content and handle empty file"
   ]
  },
  {
   "cell_type": "code",
   "execution_count": null,
   "id": "c49c3be0",
   "metadata": {},
   "outputs": [],
   "source": [
    "with open(\"example.txt\", \"r\") as f:\n",
    "    content = f.read()\n",
    "    if content:\n",
    "        print(content)\n",
    "    else:\n",
    "        print(\"File is empty\")"
   ]
  },
  {
   "cell_type": "markdown",
   "id": "3811e4b5",
   "metadata": {},
   "source": [
    "### 16. Memory profiling demo"
   ]
  },
  {
   "cell_type": "code",
   "execution_count": null,
   "id": "20d6e76c",
   "metadata": {},
   "outputs": [],
   "source": [
    "# pip install memory_profiler\n",
    "from memory_profiler import profile\n",
    "\n",
    "@profile\n",
    "def create_list():\n",
    "    return [i for i in range(10000)]\n",
    "\n",
    "create_list()"
   ]
  },
  {
   "cell_type": "markdown",
   "id": "d5c875e3",
   "metadata": {},
   "source": [
    "### 17. Write numbers to file, one per line"
   ]
  },
  {
   "cell_type": "code",
   "execution_count": null,
   "id": "2a3eccb2",
   "metadata": {},
   "outputs": [],
   "source": [
    "with open(\"numbers.txt\", \"w\") as f:\n",
    "    for i in range(10):\n",
    "        f.write(f\"{i}\\n\")"
   ]
  },
  {
   "cell_type": "markdown",
   "id": "53fdf134",
   "metadata": {},
   "source": [
    "### 18. Logging with rotation"
   ]
  },
  {
   "cell_type": "code",
   "execution_count": null,
   "id": "a9aaf175",
   "metadata": {},
   "outputs": [],
   "source": [
    "import logging\n",
    "from logging.handlers import RotatingFileHandler\n",
    "\n",
    "handler = RotatingFileHandler(\"rotated.log\", maxBytes=1024*1024, backupCount=1)\n",
    "logging.basicConfig(handlers=[handler], level=logging.INFO)\n",
    "logging.info(\"Logging with rotation\")"
   ]
  },
  {
   "cell_type": "markdown",
   "id": "3ee371be",
   "metadata": {},
   "source": [
    "### 19. Handle IndexError and KeyError"
   ]
  },
  {
   "cell_type": "code",
   "execution_count": null,
   "id": "f37b1914",
   "metadata": {},
   "outputs": [],
   "source": [
    "try:\n",
    "    l = [1, 2]\n",
    "    print(l[5])\n",
    "    d = {}\n",
    "    print(d['key'])\n",
    "except IndexError:\n",
    "    print(\"Index out of range\")\n",
    "except KeyError:\n",
    "    print(\"Key not found\")"
   ]
  },
  {
   "cell_type": "markdown",
   "id": "57e84309",
   "metadata": {},
   "source": [
    "### 20. Read file using context manager"
   ]
  },
  {
   "cell_type": "code",
   "execution_count": null,
   "id": "0ea87da7",
   "metadata": {},
   "outputs": [],
   "source": [
    "with open(\"example.txt\", \"r\") as f:\n",
    "    print(f.read())"
   ]
  },
  {
   "cell_type": "markdown",
   "id": "bc685d66",
   "metadata": {},
   "source": [
    "### 21. Count word occurrences in file"
   ]
  },
  {
   "cell_type": "code",
   "execution_count": null,
   "id": "352fdefb",
   "metadata": {},
   "outputs": [],
   "source": [
    "word = \"test\"\n",
    "with open(\"example.txt\", \"r\") as f:\n",
    "    content = f.read()\n",
    "    print(content.count(word))"
   ]
  },
  {
   "cell_type": "markdown",
   "id": "a47961e7",
   "metadata": {},
   "source": [
    "### 22. Check if file is empty"
   ]
  },
  {
   "cell_type": "code",
   "execution_count": null,
   "id": "df87d0af",
   "metadata": {},
   "outputs": [],
   "source": [
    "import os\n",
    "if os.stat(\"example.txt\").st_size == 0:\n",
    "    print(\"File is empty\")\n",
    "else:\n",
    "    print(\"File is not empty\")"
   ]
  },
  {
   "cell_type": "markdown",
   "id": "e6334c36",
   "metadata": {},
   "source": [
    "### 23. Log file handling error"
   ]
  },
  {
   "cell_type": "code",
   "execution_count": null,
   "id": "ba035acc",
   "metadata": {},
   "outputs": [],
   "source": [
    "import logging\n",
    "logging.basicConfig(filename='file_error.log', level=logging.ERROR)\n",
    "try:\n",
    "    open(\"nonexistent.txt\")\n",
    "except Exception as e:\n",
    "    logging.error(f\"File error: {e}\")"
   ]
  }
 ],
 "metadata": {},
 "nbformat": 4,
 "nbformat_minor": 5
}