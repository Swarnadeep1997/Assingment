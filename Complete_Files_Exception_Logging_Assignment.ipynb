{
 "cells": [
  {
   "cell_type": "markdown",
   "id": "30b6712d",
   "metadata": {},
   "source": [
    "# Files, Exception Handling, Logging & Memory Management - Assignment\n",
    "\n",
    "Submitted by: **Swarnadeep Sarcar**\n",
    "\n",
    "---\n"
   ]
  },
  {
   "cell_type": "markdown",
   "id": "9ca1f73d",
   "metadata": {},
   "source": [
    "### 1. What is the difference between interpreted and compiled languages?"
   ]
  },
  {
   "cell_type": "markdown",
   "id": "5a2e9b58",
   "metadata": {},
   "source": [
    "Compiled languages convert code to machine language before execution (e.g., C). Interpreted languages execute line-by-line (e.g., Python)."
   ]
  },
  {
   "cell_type": "markdown",
   "id": "9dd0a460",
   "metadata": {},
   "source": [
    "### 2. What is exception handling in Python?"
   ]
  },
  {
   "cell_type": "markdown",
   "id": "e1c36e36",
   "metadata": {},
   "source": [
    "It is the process of responding to exceptions (runtime errors) using try, except, else, and finally blocks."
   ]
  },
  {
   "cell_type": "markdown",
   "id": "64d4279a",
   "metadata": {},
   "source": [
    "### 3. What is the purpose of the finally block in exception handling?"
   ]
  },
  {
   "cell_type": "markdown",
   "id": "f2340136",
   "metadata": {},
   "source": [
    "It executes whether or not an exception occurs—used for cleanup like closing files."
   ]
  },
  {
   "cell_type": "markdown",
   "id": "930acd1f",
   "metadata": {},
   "source": [
    "### 4. What is logging in Python?"
   ]
  },
  {
   "cell_type": "markdown",
   "id": "c08df1b2",
   "metadata": {},
   "source": [
    "Logging records events during program execution. It's more flexible than print statements."
   ]
  },
  {
   "cell_type": "markdown",
   "id": "852891fe",
   "metadata": {},
   "source": [
    "### 5. What is the significance of the __del__ method in Python?"
   ]
  },
  {
   "cell_type": "markdown",
   "id": "1f73782b",
   "metadata": {},
   "source": [
    "`__del__` is a destructor method automatically called when an object is deleted."
   ]
  },
  {
   "cell_type": "markdown",
   "id": "b05cc1f8",
   "metadata": {},
   "source": [
    "### 6. What is the difference between import and from ... import in Python?"
   ]
  },
  {
   "cell_type": "markdown",
   "id": "f0e4a05f",
   "metadata": {},
   "source": [
    "`import module` imports the whole module; `from module import x` imports only x from it."
   ]
  },
  {
   "cell_type": "markdown",
   "id": "9af49896",
   "metadata": {},
   "source": [
    "### 7. How can you handle multiple exceptions in Python?"
   ]
  },
  {
   "cell_type": "markdown",
   "id": "0d92972f",
   "metadata": {},
   "source": [
    "Use a tuple: `except (TypeError, ValueError) as e:` to handle multiple exceptions."
   ]
  },
  {
   "cell_type": "markdown",
   "id": "dc652bd0",
   "metadata": {},
   "source": [
    "### 8. What is the purpose of the with statement when handling files in Python?"
   ]
  },
  {
   "cell_type": "markdown",
   "id": "d15e21bc",
   "metadata": {},
   "source": [
    "`with` ensures files are properly closed after operations, even if errors occur."
   ]
  },
  {
   "cell_type": "markdown",
   "id": "ea77e366",
   "metadata": {},
   "source": [
    "### 9. What is the difference between multithreading and multiprocessing?"
   ]
  },
  {
   "cell_type": "markdown",
   "id": "7f87252d",
   "metadata": {},
   "source": [
    "Multithreading runs multiple threads in one process; multiprocessing uses separate memory for each process."
   ]
  },
  {
   "cell_type": "markdown",
   "id": "49845fa8",
   "metadata": {},
   "source": [
    "### 10. What are the advantages of using logging in a program?"
   ]
  },
  {
   "cell_type": "markdown",
   "id": "e404ae44",
   "metadata": {},
   "source": [
    "Logging provides persistent, level-based debugging and error tracking across environments."
   ]
  },
  {
   "cell_type": "markdown",
   "id": "486a3c6a",
   "metadata": {},
   "source": [
    "### 11. What is memory management in Python?"
   ]
  },
  {
   "cell_type": "markdown",
   "id": "f3e6c803",
   "metadata": {},
   "source": [
    "Automatic management using reference counting and garbage collection to free unused memory."
   ]
  },
  {
   "cell_type": "markdown",
   "id": "bd8e0565",
   "metadata": {},
   "source": [
    "### 12. What are the basic steps involved in exception handling in Python?"
   ]
  },
  {
   "cell_type": "markdown",
   "id": "ce267ace",
   "metadata": {},
   "source": [
    "`try` block → `except` block → optional `else` → optional `finally` block."
   ]
  },
  {
   "cell_type": "markdown",
   "id": "c845ac31",
   "metadata": {},
   "source": [
    "### 13. Why is memory management important in Python?"
   ]
  },
  {
   "cell_type": "markdown",
   "id": "0d0edc88",
   "metadata": {},
   "source": [
    "Efficient memory use prevents memory leaks and improves performance."
   ]
  },
  {
   "cell_type": "markdown",
   "id": "2c91ca14",
   "metadata": {},
   "source": [
    "### 14. What is the role of try and except in exception handling?"
   ]
  },
  {
   "cell_type": "markdown",
   "id": "c8b716d5",
   "metadata": {},
   "source": [
    "`try` runs risky code; `except` catches and handles exceptions if they occur."
   ]
  },
  {
   "cell_type": "markdown",
   "id": "41d6179c",
   "metadata": {},
   "source": [
    "### 15. How does Python's garbage collection system work?"
   ]
  },
  {
   "cell_type": "markdown",
   "id": "5cd89024",
   "metadata": {},
   "source": [
    "Uses reference counting and cyclic garbage collection to reclaim unused memory."
   ]
  },
  {
   "cell_type": "markdown",
   "id": "6671a6c5",
   "metadata": {},
   "source": [
    "### 16. What is the purpose of the else block in exception handling?"
   ]
  },
  {
   "cell_type": "markdown",
   "id": "a2dfe7db",
   "metadata": {},
   "source": [
    "It runs if no exceptions were raised in the try block."
   ]
  },
  {
   "cell_type": "markdown",
   "id": "07a4b1f9",
   "metadata": {},
   "source": [
    "### 17. What are the common logging levels in Python?"
   ]
  },
  {
   "cell_type": "markdown",
   "id": "2d28ff63",
   "metadata": {},
   "source": [
    "`DEBUG`, `INFO`, `WARNING`, `ERROR`, and `CRITICAL`."
   ]
  },
  {
   "cell_type": "markdown",
   "id": "fcd879db",
   "metadata": {},
   "source": [
    "### 18. What is the difference between os.fork() and multiprocessing in Python?"
   ]
  },
  {
   "cell_type": "markdown",
   "id": "5b17e4e7",
   "metadata": {},
   "source": [
    "`os.fork()` is Unix-only; `multiprocessing` works cross-platform and is safer for Python."
   ]
  },
  {
   "cell_type": "markdown",
   "id": "f60337e0",
   "metadata": {},
   "source": [
    "### 19. What is the importance of closing a file in Python?"
   ]
  },
  {
   "cell_type": "markdown",
   "id": "4ea2b030",
   "metadata": {},
   "source": [
    "Prevents memory leaks and ensures all data is saved properly."
   ]
  },
  {
   "cell_type": "markdown",
   "id": "659ab784",
   "metadata": {},
   "source": [
    "### 20. What is the difference between file.read() and file.readline() in Python?"
   ]
  },
  {
   "cell_type": "markdown",
   "id": "7b085cee",
   "metadata": {},
   "source": [
    "`read()` reads full content; `readline()` reads one line at a time."
   ]
  },
  {
   "cell_type": "markdown",
   "id": "45170aa0",
   "metadata": {},
   "source": [
    "### 21. What is the logging module in Python used for?"
   ]
  },
  {
   "cell_type": "markdown",
   "id": "55a208d3",
   "metadata": {},
   "source": [
    "To track events during execution, helpful for debugging and auditing."
   ]
  },
  {
   "cell_type": "markdown",
   "id": "37af3954",
   "metadata": {},
   "source": [
    "### 22. What is the os module in Python used for in file handling?"
   ]
  },
  {
   "cell_type": "markdown",
   "id": "0b9b6b4a",
   "metadata": {},
   "source": [
    "To interact with the operating system: file paths, creation, deletion, etc."
   ]
  },
  {
   "cell_type": "markdown",
   "id": "cbf46c83",
   "metadata": {},
   "source": [
    "### 23. What are the challenges associated with memory management in Python?"
   ]
  },
  {
   "cell_type": "markdown",
   "id": "8b2b0204",
   "metadata": {},
   "source": [
    "Includes cyclic references, large object management, and memory leaks from misuse."
   ]
  },
  {
   "cell_type": "markdown",
   "id": "0ad6bcd4",
   "metadata": {},
   "source": [
    "### 24. How do you raise an exception manually in Python?"
   ]
  },
  {
   "cell_type": "markdown",
   "id": "4e540844",
   "metadata": {},
   "source": [
    "`raise ValueError(\"message\")` will raise a custom exception."
   ]
  },
  {
   "cell_type": "markdown",
   "id": "d8579517",
   "metadata": {},
   "source": [
    "### 25. Why is it important to use multithreading in certain applications?"
   ]
  },
  {
   "cell_type": "markdown",
   "id": "e5d95637",
   "metadata": {},
   "source": [
    "Improves performance for I/O-bound tasks like file reading, network calls, etc."
   ]
  }
 ],
 "metadata": {},
 "nbformat": 4,
 "nbformat_minor": 5
}